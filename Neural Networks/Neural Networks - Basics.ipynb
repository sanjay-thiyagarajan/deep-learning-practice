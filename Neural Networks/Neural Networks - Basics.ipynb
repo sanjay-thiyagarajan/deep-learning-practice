{
 "cells": [
  {
   "cell_type": "code",
   "execution_count": 1,
   "metadata": {},
   "outputs": [],
   "source": [
    "# NEURAL NETWORKS - LEVEL 0\n",
    "# Reference => Grokking Deep Learning"
   ]
  },
  {
   "cell_type": "code",
   "execution_count": 13,
   "metadata": {},
   "outputs": [],
   "source": [
    "# SIMPLE NEURAL NETWORK - GIVEN WITH A STATIC WEIGHT\n",
    "def neural_network(input, weight):\n",
    "    prediction = input * weight\n",
    "    return prediction"
   ]
  },
  {
   "cell_type": "code",
   "execution_count": 19,
   "metadata": {},
   "outputs": [],
   "source": [
    "# SIMPLE NEURAL NETWORK - MULTIPLE WEIGHTS\n",
    "def w_sum(a, b):\n",
    "    output = 0\n",
    "    for i in range(len(a)):\n",
    "        output += (a[i]*b[i])\n",
    "    return output\n",
    "def neural_network_two(input, weight):\n",
    "    prediction = w_sum(input, weight)\n",
    "    return prediction"
   ]
  },
  {
   "cell_type": "code",
   "execution_count": 22,
   "metadata": {},
   "outputs": [
    {
     "name": "stdout",
     "output_type": "stream",
     "text": [
      "Simple NN prediction => [4.3, 8.6, 12.899999999999999, 17.2, 21.5]\n",
      "Weighed sum calculation => 29.4\n"
     ]
    }
   ],
   "source": [
    "weight = 4.3\n",
    "samples = [1,2,3,4,5]\n",
    "samples = list(map(float, samples))\n",
    "prediction = [neural_network(i, weight) for i in samples]\n",
    "print('Simple NN prediction => {}'.format(prediction))\n",
    "# PREDICTING USING MULTIPLE WEIGHTS\n",
    "weights = [1.2, 3.1, 4,0, 2,5, 1.3]\n",
    "prediction = neural_network_two(samples, weights)\n",
    "print('Weighed sum calculation => {}'.format(prediction))"
   ]
  }
 ],
 "metadata": {
  "kernelspec": {
   "display_name": "Python 3",
   "language": "python",
   "name": "python3"
  },
  "language_info": {
   "codemirror_mode": {
    "name": "ipython",
    "version": 3
   },
   "file_extension": ".py",
   "mimetype": "text/x-python",
   "name": "python",
   "nbconvert_exporter": "python",
   "pygments_lexer": "ipython3",
   "version": "3.8.6"
  }
 },
 "nbformat": 4,
 "nbformat_minor": 4
}
